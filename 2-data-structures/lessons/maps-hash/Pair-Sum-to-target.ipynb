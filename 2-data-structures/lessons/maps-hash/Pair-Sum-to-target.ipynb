{
 "cells": [
  {
   "cell_type": "markdown",
   "metadata": {
    "graffitiCellId": "id_486zult"
   },
   "source": [
    "### Problem statement\n",
    "\n",
    "Given an `input_list` and a `target`, return the pair of indices in the list that holds the values which sum to the `target`. For example, \n",
    "\n",
    "`input_list = [1, 5, 9, 7]` and `target = 8`, the answer would be `[0, 3]` \n",
    "\n",
    "**Note**<br>\n",
    "1. The best solution takes O(n) time. *This means that you cannot traverse the given list more than once.* **Hint - Think of an additional data structure that you should use here.** \n",
    "2. You can assume that the list does not have any duplicates."
   ]
  },
  {
   "cell_type": "code",
   "execution_count": 36,
   "metadata": {
    "graffitiCellId": "id_fq96qkf"
   },
   "outputs": [],
   "source": [
    "def get_target_sum_pair(input_list, target, cache, current_index):\n",
    "    result  = None\n",
    "    \n",
    "    if current_index < len(input_list):\n",
    "        current_value = input_list[current_index]\n",
    "        look_up       = target - current_value\n",
    "        \n",
    "        cached_value = cache.get(look_up) \n",
    "            \n",
    "        if cached_value != None:\n",
    "            result = [cached_value, current_index]\n",
    "        else:\n",
    "            cache[current_value] = current_index\n",
    "\n",
    "        if result == None:\n",
    "            result = get_target_sum_pair(input_list, target, cache, current_index + 1)\n",
    "    \n",
    "    return result\n",
    "    \n",
    "def pair_sum_to_target(input_list, target):\n",
    "    cache  = dict()\n",
    "    \n",
    "    return get_target_sum_pair(input_list, target, cache, 0)\n",
    "    \n",
    "    "
   ]
  },
  {
   "cell_type": "code",
   "execution_count": 37,
   "metadata": {
    "graffitiCellId": "id_gxkqfwu"
   },
   "outputs": [],
   "source": [
    "def test_function(test_case):\n",
    "    output = pair_sum_to_target(test_case[0], test_case[1])\n",
    "    print(output)\n",
    "    if sorted(output) == test_case[2]:\n",
    "        print(\"Pass\")\n",
    "    else:\n",
    "        print(\"Fail\")"
   ]
  },
  {
   "cell_type": "code",
   "execution_count": 38,
   "metadata": {
    "graffitiCellId": "id_fqo2ly7"
   },
   "outputs": [
    {
     "name": "stdout",
     "output_type": "stream",
     "text": [
      "[0, 3]\n",
      "Pass\n"
     ]
    }
   ],
   "source": [
    "test_case_1 = [[1, 5, 9, 7], 8, [0, 3]]\n",
    "test_function(test_case_1)"
   ]
  },
  {
   "cell_type": "code",
   "execution_count": 39,
   "metadata": {
    "graffitiCellId": "id_38rw3d3"
   },
   "outputs": [
    {
     "name": "stdout",
     "output_type": "stream",
     "text": [
      "[0, 7]\n",
      "Pass\n"
     ]
    }
   ],
   "source": [
    "test_case_2 = [[10, 5, 9, 8, 12, 1, 16, 6], 16, [0, 7]]\n",
    "test_function(test_case_2)"
   ]
  },
  {
   "cell_type": "code",
   "execution_count": 40,
   "metadata": {
    "graffitiCellId": "id_lrl4kfz"
   },
   "outputs": [
    {
     "name": "stdout",
     "output_type": "stream",
     "text": [
      "[0, 4]\n",
      "Pass\n"
     ]
    }
   ],
   "source": [
    "test_case_3 = [[0, 1, 2, 3, -4], -4, [0, 4]]\n",
    "test_function(test_case_3)"
   ]
  },
  {
   "cell_type": "markdown",
   "metadata": {
    "graffitiCellId": "id_snm0ke6"
   },
   "source": [
    "<span class=\"graffiti-highlight graffiti-id_snm0ke6-id_tv0tye7\"><i></i><button>Hide Solution</button></span>"
   ]
  },
  {
   "cell_type": "code",
   "execution_count": null,
   "metadata": {
    "graffitiCellId": "id_tv0tye7"
   },
   "outputs": [],
   "source": [
    "def pair_sum_to_target(input_list, target):\n",
    "    \n",
    "    # Create a dictionary.\n",
    "    # Each element of the input_list would become a \"key\", and\n",
    "    # the corresponding index in the input_list would become the \"value\"\n",
    "    index_dict = dict()\n",
    "    \n",
    "    # Traverse through the input_list\n",
    "    for index, element in enumerate(input_list):\n",
    "        \n",
    "        # `in` is the way to test for the existence of a \"key\" in a dictionary\n",
    "        if (target - element) in index_dict:\n",
    "            \n",
    "            # Return the TWO indices that sum to the target\n",
    "            return [index_dict[target - element], index]\n",
    "\n",
    "        index_dict[element] = index\n",
    "\n",
    "    return [-1,-1]              # If the target is not achieved\n"
   ]
  }
 ],
 "metadata": {
  "graffiti": {
   "firstAuthorId": "10694620118",
   "id": "id_vvgwoq6",
   "language": "EN"
  },
  "kernelspec": {
   "display_name": "Python 3",
   "language": "python",
   "name": "python3"
  },
  "language_info": {
   "codemirror_mode": {
    "name": "ipython",
    "version": 3
   },
   "file_extension": ".py",
   "mimetype": "text/x-python",
   "name": "python",
   "nbconvert_exporter": "python",
   "pygments_lexer": "ipython3",
   "version": "3.6.3"
  }
 },
 "nbformat": 4,
 "nbformat_minor": 2
}
