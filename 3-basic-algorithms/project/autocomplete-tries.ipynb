{
 "cells": [
  {
   "cell_type": "markdown",
   "metadata": {},
   "source": [
    "# Building a Trie in Python\n",
    "\n",
    "Before we start let us reiterate the key components of a Trie or Prefix Tree. A trie is a tree-like data structure that stores a dynamic set of strings. Tries are commonly used to facilitate operations like predictive text or autocomplete features on mobile phones or web search.\n",
    "\n",
    "Before we move into the autocomplete function we need to create a working trie for storing strings.  We will create two classes:\n",
    "* A `Trie` class that contains the root node (empty string)\n",
    "* A `TrieNode` class that exposes the general functionality of the Trie, like inserting a word or finding the node which represents a prefix.\n",
    "\n",
    "Give it a try by implementing the `TrieNode` and `Trie` classes below!"
   ]
  },
  {
   "cell_type": "code",
   "execution_count": 15,
   "metadata": {},
   "outputs": [],
   "source": [
    "from collections import defaultdict \n",
    "\n",
    "## Represents a single node in the Trie   \n",
    "class TrieNode:\n",
    "    def __init__(self):\n",
    "        ## Initialize this node in the Trie\n",
    "        self.is_word = False\n",
    "        self.children = defaultdict(TrieNode)\n",
    "    \n",
    "    def insert(self, char):\n",
    "        ## Add a child node in this Trie\n",
    "        return self.children[char]\n",
    "    \n",
    "    def find(self, prefix_char):\n",
    "        ## Find the Trie node that represents this prefix\n",
    "        result = self.children[prefix_char]\n",
    "        \n",
    "        if result.is_word == False and len(result.children) == 0:\n",
    "            result = None\n",
    "            \n",
    "        return result\n",
    "    \n",
    "## The Trie itself containing the root node and insert/find functions\n",
    "class Trie:\n",
    "    def __init__(self):\n",
    "        ## Initialize this Trie (add a root node)\n",
    "        self.root = TrieNode()\n",
    "\n",
    "    def insert(self, word):\n",
    "        ## Add a word to the Trie\n",
    "        if word:         \n",
    "            current_node = self.root\n",
    "\n",
    "            for char in word:\n",
    "                current_node = current_node.insert(char)\n",
    "            \n",
    "            current_node.is_word = True\n",
    "                \n",
    "    def find(self, prefix):\n",
    "        ## Find the Trie node that represents this prefix\n",
    "        current_node = self.root\n",
    "        \n",
    "        if prefix:\n",
    "            for char in prefix:\n",
    "                current_node = current_node.find(char)\n",
    "\n",
    "                if current_node is None:\n",
    "                    current_node = None\n",
    "                    break\n",
    "        else:\n",
    "            current_node = None\n",
    "            \n",
    "        return current_node"
   ]
  },
  {
   "cell_type": "markdown",
   "metadata": {},
   "source": [
    "# Finding Suffixes\n",
    "\n",
    "Now that we have a functioning Trie, we need to add the ability to list suffixes to implement our autocomplete feature.  To do that, we need to implement a new function on the `TrieNode` object that will return all complete word suffixes that exist below it in the trie.  For example, if our Trie contains the words `[\"fun\", \"function\", \"factory\"]` and we ask for suffixes from the `f` node, we would expect to receive `[\"un\", \"unction\", \"actory\"]` back from `node.suffixes()`.\n",
    "\n",
    "Using the code you wrote for the `TrieNode` above, try to add the suffixes function below. (Hint: recurse down the trie, collecting suffixes as you go.)"
   ]
  },
  {
   "cell_type": "code",
   "execution_count": 16,
   "metadata": {},
   "outputs": [],
   "source": [
    "from collections import defaultdict \n",
    "\n",
    "class TrieNode:\n",
    "    def __init__(self):\n",
    "        ## Initialize this node in the Trie\n",
    "        self.is_word = False\n",
    "        self.children = defaultdict(TrieNode)\n",
    "    \n",
    "    def insert(self, char):\n",
    "        ## Add a child node in this Trie\n",
    "        return self.children[char]\n",
    "    \n",
    "    def find(self, prefix_char):\n",
    "        ## Find the Trie node that represents this prefix\n",
    "        result = self.children[prefix_char]\n",
    "        \n",
    "        if result.is_word == False and len(result.children) == 0:\n",
    "            result = None\n",
    "            \n",
    "        return result\n",
    "      \n",
    "    def suffixes(self):\n",
    "        suffix_list = []\n",
    "        \n",
    "        for char in self.children.keys():\n",
    "            child_node = self.children[char]\n",
    "            \n",
    "            if child_node.is_word:\n",
    "                suffix_list.append(char)\n",
    "                \n",
    "            child_suffixes = child_node.suffixes()\n",
    "            \n",
    "            for suffix in child_suffixes:\n",
    "                suffix_list.append(char + suffix)\n",
    "        \n",
    "        return suffix_list\n"
   ]
  },
  {
   "cell_type": "markdown",
   "metadata": {},
   "source": [
    "# Testing the trie\n",
    "Now the code is complete and can get suffixes, let's run some testing."
   ]
  },
  {
   "cell_type": "code",
   "execution_count": 23,
   "metadata": {},
   "outputs": [
    {
     "name": "stdout",
     "output_type": "stream",
     "text": [
      "['nt', 'nthology', 'ntagonist', 'ntonym', 'd']\n",
      "['y']\n",
      "[]\n",
      "['per']\n",
      "None\n",
      "None\n",
      "None\n"
     ]
    }
   ],
   "source": [
    "word_trie = Trie()\n",
    "\n",
    "word_list = [\n",
    "    \"ant\", \"ad\", \"anthology\", \"antagonist\", \"antonym\", \n",
    "    \"fun\", \"function\", \"factory\", \n",
    "    \"trie\", \"trigger\", \"trigonometry\", \"tripod\",\n",
    "    \"super\"\n",
    "]\n",
    "\n",
    "for word in word_list:\n",
    "    word_trie.insert(word)\n",
    "\n",
    "# Find a regular prefix, one letter.\n",
    "# Output: ['nt', 'nthology', 'ntagonist', 'ntonym', 'd']\n",
    "prefix = 'a'\n",
    "prefix_node = word_trie.find(prefix)\n",
    "print(prefix_node.suffixes())\n",
    "\n",
    "# Find a regular prefix, big input.\n",
    "# Output: ['y']\n",
    "prefix = 'trigonometr'\n",
    "prefix_node = word_trie.find(prefix)\n",
    "print(prefix_node.suffixes())\n",
    "\n",
    "# Find a whole word as a prefix, big input.\n",
    "# Output: []\n",
    "prefix = 'trigonometry'\n",
    "prefix_node = word_trie.find(prefix)\n",
    "print(prefix_node.suffixes())\n",
    "\n",
    "# Find a prefix that only has one word.\n",
    "# Output: ['per']\n",
    "prefix = 'su'\n",
    "prefix_node = word_trie.find(prefix)\n",
    "print(prefix_node.suffixes())\n",
    "\n",
    "# Find a prefix that is not in the trie.\n",
    "# Output: None\n",
    "prefix = 'wrong'\n",
    "prefix_node = word_trie.find(prefix)\n",
    "print(prefix_node)\n",
    "\n",
    "# Empty prefix parameter.\n",
    "# Output: None\n",
    "prefix = ''\n",
    "prefix_node = word_trie.find(prefix)\n",
    "print(prefix_node)\n",
    "\n",
    "# None prefix.\n",
    "# Output: None\n",
    "prefix = None\n",
    "prefix_node = word_trie.find(prefix)\n",
    "print(prefix_node)"
   ]
  },
  {
   "cell_type": "markdown",
   "metadata": {},
   "source": [
    "# Testing it all out\n",
    "\n",
    "Run the following code to add some words to your trie and then use the interactive search box to see what your code returns."
   ]
  },
  {
   "cell_type": "code",
   "execution_count": 4,
   "metadata": {},
   "outputs": [],
   "source": [
    "MyTrie = Trie()\n",
    "wordList = [\n",
    "    \"ant\", \"anthology\", \"antagonist\", \"antonym\", \n",
    "    \"fun\", \"function\", \"factory\", \n",
    "    \"trie\", \"trigger\", \"trigonometry\", \"tripod\"\n",
    "]\n",
    "for word in wordList:\n",
    "    MyTrie.insert(word)"
   ]
  },
  {
   "cell_type": "code",
   "execution_count": 5,
   "metadata": {},
   "outputs": [
    {
     "data": {
      "application/vnd.jupyter.widget-view+json": {
       "model_id": "f572443c41614c24adc16af6b84b1687",
       "version_major": 2,
       "version_minor": 0
      },
      "text/html": [
       "<p>Failed to display Jupyter Widget of type <code>interactive</code>.</p>\n",
       "<p>\n",
       "  If you're reading this message in the Jupyter Notebook or JupyterLab Notebook, it may mean\n",
       "  that the widgets JavaScript is still loading. If this message persists, it\n",
       "  likely means that the widgets JavaScript library is either not installed or\n",
       "  not enabled. See the <a href=\"https://ipywidgets.readthedocs.io/en/stable/user_install.html\">Jupyter\n",
       "  Widgets Documentation</a> for setup instructions.\n",
       "</p>\n",
       "<p>\n",
       "  If you're reading this message in another frontend (for example, a static\n",
       "  rendering on GitHub or <a href=\"https://nbviewer.jupyter.org/\">NBViewer</a>),\n",
       "  it may mean that your frontend doesn't currently support widgets.\n",
       "</p>\n"
      ],
      "text/plain": [
       "interactive(children=(Text(value='', description='prefix'), Output()), _dom_classes=('widget-interact',))"
      ]
     },
     "metadata": {},
     "output_type": "display_data"
    }
   ],
   "source": [
    "from ipywidgets import widgets\n",
    "from IPython.display import display\n",
    "from ipywidgets import interact\n",
    "def f(prefix):\n",
    "    if prefix != '':\n",
    "        prefixNode = MyTrie.find(prefix)\n",
    "        if prefixNode:\n",
    "            print('\\n'.join(prefixNode.suffixes()))\n",
    "        else:\n",
    "            print(prefix + \" not found\")\n",
    "    else:\n",
    "        print('')\n",
    "interact(f,prefix='');"
   ]
  },
  {
   "cell_type": "code",
   "execution_count": null,
   "metadata": {},
   "outputs": [],
   "source": []
  },
  {
   "cell_type": "code",
   "execution_count": null,
   "metadata": {},
   "outputs": [],
   "source": []
  }
 ],
 "metadata": {
  "kernelspec": {
   "display_name": "Python 3",
   "language": "python",
   "name": "python3"
  },
  "language_info": {
   "codemirror_mode": {
    "name": "ipython",
    "version": 3
   },
   "file_extension": ".py",
   "mimetype": "text/x-python",
   "name": "python",
   "nbconvert_exporter": "python",
   "pygments_lexer": "ipython3",
   "version": "3.6.3"
  },
  "widgets": {
   "state": {},
   "version": "1.1.2"
  }
 },
 "nbformat": 4,
 "nbformat_minor": 2
}
