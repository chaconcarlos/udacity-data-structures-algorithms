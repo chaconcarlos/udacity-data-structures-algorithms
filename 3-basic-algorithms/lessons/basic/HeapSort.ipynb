{
 "cells": [
  {
   "cell_type": "markdown",
   "metadata": {
    "graffitiCellId": "id_8qbo8lo"
   },
   "source": [
    "# Heapsort\n",
    "\n",
    "A heapsort is an in-place sorting algorithm that treats an array like a binary tree and moves the largest values to the end of the heap until the full array is sorted.  \n",
    "\n",
    "The main steps in a heapsort are:\n",
    "1. Convert the array into a maxheap (a complete binary tree with decreasing values) \n",
    "2. Swap the top element with the last element in the array (putting it in it's correct final position)\n",
    "3. Repeat with `arr[:len(arr)-1]` (all but the sorted elements)\n",
    "\n",
    "## Visualization of a heapsort\n",
    "![animation of a heap sort](https://upload.wikimedia.org/wikipedia/commons/4/4d/Heapsort-example.gif)\n",
    "\n",
    "[\"Heapsort example\"](https://commons.wikimedia.org/wiki/File:Heapsort-example.gif) by Swfung8. Used under [CC BY-SA 3.0](https://creativecommons.org/licenses/by-sa/3.0/deed.en).\n",
    "\n",
    "## Problem statement\n",
    "\n",
    "In the cell below, see if you can code a `heapsort` function that takes an array (or Python list) and performs a heapsort on it. You will have to complete the heapify"
   ]
  },
  {
   "cell_type": "code",
   "execution_count": 1,
   "metadata": {},
   "outputs": [],
   "source": [
    "def heapsort(arr):\n",
    "    heapify(arr, len(arr), 0)\n",
    "    \n",
    "def heapify():\n",
    "    \"\"\"\n",
    "    :param: arr - array to heapify\n",
    "    n -- number of elements in the array\n",
    "    i -- index of the current node\n",
    "    TODO: Converts an array (in place) into a maxheap, a complete binary tree with the largest values at the top\n",
    "    \"\"\""
   ]
  },
  {
   "cell_type": "markdown",
   "metadata": {
    "graffitiCellId": "id_1h50lwk"
   },
   "source": [
    "<span class=\"graffiti-highlight graffiti-id_1h50lwk-id_kuae7he\"><i></i><button>Hide Solution</button></span>"
   ]
  },
  {
   "cell_type": "code",
   "execution_count": 25,
   "metadata": {
    "graffitiCellId": "id_kuae7he"
   },
   "outputs": [],
   "source": [
    "# Solution\n",
    "\n",
    "def heapify(arr, n, i):\n",
    "    # Using i as the index of the current node, find the 2 child nodes (if the array were a binary tree)\n",
    "    # and find the largest value.   If one of the children is larger swap the values and recurse into that subree\n",
    "    \n",
    "    # consider current index as largest\n",
    "    largest_index = i \n",
    "    left_node = 2 * i + 1     \n",
    "    right_node = 2 * i + 2     \n",
    "  \n",
    "    print(\"n: \", n, \" i: \", i, \" left_node: \", left_node, \" right_node: \", right_node)\n",
    "    print(arr)\n",
    "    print(\"\\n\")\n",
    "\n",
    "    # compare with left child\n",
    "    if left_node < n and arr[i] < arr[left_node]: \n",
    "        largest_index = left_node\n",
    "  \n",
    "    # compare with right child\n",
    "    if right_node < n and arr[largest_index] < arr[right_node]: \n",
    "        largest_index = right_node\n",
    "  \n",
    "    # if either of left / right child is the largest node\n",
    "    if largest_index != i: \n",
    "        arr[i], arr[largest_index] = arr[largest_index], arr[i] \n",
    "    \n",
    "        heapify(arr, n, largest_index)\n",
    "        \n",
    "def heapsort(arr):\n",
    "    # First convert the array into a maxheap by calling heapify on each node, starting from the end   \n",
    "    # now that you have a maxheap, you can swap the first element (largest) to the end (final position)\n",
    "    # and make the array minus the last element into maxheap again.  Continue to do this until the whole\n",
    "    # array is sorted\n",
    "    n = len(arr) \n",
    "  \n",
    "    # Build a maxheap. \n",
    "    for i in range(n-1, 0, -1): \n",
    "        heapify(arr, n, i) \n",
    "    \n",
    "    print(\"done 1 run!!\")\n",
    "    \n",
    "    print(list(range(n, -1, -1)))\n",
    "    print(list(range(n-1, 0, -1)))\n",
    "    \n",
    "    # One by one extract elements \n",
    "    for i in range(n-1, 0, -1): \n",
    "        print(i)\n",
    "        arr[i], arr[0] = arr[0], arr[i] # swap \n",
    "        heapify(arr, i, 0) \n",
    "        print(\"done\", i)"
   ]
  },
  {
   "cell_type": "code",
   "execution_count": 26,
   "metadata": {},
   "outputs": [],
   "source": [
    "def test_function(test_case):\n",
    "    heapsort(test_case[0])\n",
    "    if test_case[0] == test_case[1]:\n",
    "        print(\"Pass\")\n",
    "    else:\n",
    "        print(\"False\")"
   ]
  },
  {
   "cell_type": "code",
   "execution_count": 27,
   "metadata": {
    "graffitiCellId": "id_m5bzpwe",
    "scrolled": false
   },
   "outputs": [
    {
     "name": "stdout",
     "output_type": "stream",
     "text": [
      "n:  8  i:  7  left_node:  15  right_node:  16\n",
      "[6, 5, 3, 1, 8, 7, 2, 4]\n",
      "\n",
      "\n",
      "n:  8  i:  6  left_node:  13  right_node:  14\n",
      "[6, 5, 3, 1, 8, 7, 2, 4]\n",
      "\n",
      "\n",
      "n:  8  i:  5  left_node:  11  right_node:  12\n",
      "[6, 5, 3, 1, 8, 7, 2, 4]\n",
      "\n",
      "\n",
      "n:  8  i:  4  left_node:  9  right_node:  10\n",
      "[6, 5, 3, 1, 8, 7, 2, 4]\n",
      "\n",
      "\n",
      "n:  8  i:  3  left_node:  7  right_node:  8\n",
      "[6, 5, 3, 1, 8, 7, 2, 4]\n",
      "\n",
      "\n",
      "n:  8  i:  7  left_node:  15  right_node:  16\n",
      "[6, 5, 3, 4, 8, 7, 2, 1]\n",
      "\n",
      "\n",
      "n:  8  i:  2  left_node:  5  right_node:  6\n",
      "[6, 5, 3, 4, 8, 7, 2, 1]\n",
      "\n",
      "\n",
      "n:  8  i:  5  left_node:  11  right_node:  12\n",
      "[6, 5, 7, 4, 8, 3, 2, 1]\n",
      "\n",
      "\n",
      "n:  8  i:  1  left_node:  3  right_node:  4\n",
      "[6, 5, 7, 4, 8, 3, 2, 1]\n",
      "\n",
      "\n",
      "n:  8  i:  4  left_node:  9  right_node:  10\n",
      "[6, 8, 7, 4, 5, 3, 2, 1]\n",
      "\n",
      "\n",
      "done 1 run!!\n",
      "[8, 7, 6, 5, 4, 3, 2, 1, 0]\n",
      "[7, 6, 5, 4, 3, 2, 1]\n",
      "7\n",
      "n:  7  i:  0  left_node:  1  right_node:  2\n",
      "[1, 8, 7, 4, 5, 3, 2, 6]\n",
      "\n",
      "\n",
      "n:  7  i:  1  left_node:  3  right_node:  4\n",
      "[8, 1, 7, 4, 5, 3, 2, 6]\n",
      "\n",
      "\n",
      "n:  7  i:  4  left_node:  9  right_node:  10\n",
      "[8, 5, 7, 4, 1, 3, 2, 6]\n",
      "\n",
      "\n",
      "done 7\n",
      "6\n",
      "n:  6  i:  0  left_node:  1  right_node:  2\n",
      "[2, 5, 7, 4, 1, 3, 8, 6]\n",
      "\n",
      "\n",
      "n:  6  i:  2  left_node:  5  right_node:  6\n",
      "[7, 5, 2, 4, 1, 3, 8, 6]\n",
      "\n",
      "\n",
      "n:  6  i:  5  left_node:  11  right_node:  12\n",
      "[7, 5, 3, 4, 1, 2, 8, 6]\n",
      "\n",
      "\n",
      "done 6\n",
      "5\n",
      "n:  5  i:  0  left_node:  1  right_node:  2\n",
      "[2, 5, 3, 4, 1, 7, 8, 6]\n",
      "\n",
      "\n",
      "n:  5  i:  1  left_node:  3  right_node:  4\n",
      "[5, 2, 3, 4, 1, 7, 8, 6]\n",
      "\n",
      "\n",
      "n:  5  i:  3  left_node:  7  right_node:  8\n",
      "[5, 4, 3, 2, 1, 7, 8, 6]\n",
      "\n",
      "\n",
      "done 5\n",
      "4\n",
      "n:  4  i:  0  left_node:  1  right_node:  2\n",
      "[1, 4, 3, 2, 5, 7, 8, 6]\n",
      "\n",
      "\n",
      "n:  4  i:  1  left_node:  3  right_node:  4\n",
      "[4, 1, 3, 2, 5, 7, 8, 6]\n",
      "\n",
      "\n",
      "n:  4  i:  3  left_node:  7  right_node:  8\n",
      "[4, 2, 3, 1, 5, 7, 8, 6]\n",
      "\n",
      "\n",
      "done 4\n",
      "3\n",
      "n:  3  i:  0  left_node:  1  right_node:  2\n",
      "[1, 2, 3, 4, 5, 7, 8, 6]\n",
      "\n",
      "\n",
      "n:  3  i:  2  left_node:  5  right_node:  6\n",
      "[3, 2, 1, 4, 5, 7, 8, 6]\n",
      "\n",
      "\n",
      "done 3\n",
      "2\n",
      "n:  2  i:  0  left_node:  1  right_node:  2\n",
      "[1, 2, 3, 4, 5, 7, 8, 6]\n",
      "\n",
      "\n",
      "n:  2  i:  1  left_node:  3  right_node:  4\n",
      "[2, 1, 3, 4, 5, 7, 8, 6]\n",
      "\n",
      "\n",
      "done 2\n",
      "1\n",
      "n:  1  i:  0  left_node:  1  right_node:  2\n",
      "[1, 2, 3, 4, 5, 7, 8, 6]\n",
      "\n",
      "\n",
      "done 1\n",
      "False\n"
     ]
    }
   ],
   "source": [
    "arr = [6, 5, 3, 1, 8, 7, 2, 4]\n",
    "solution = [0, 1, 3, 3, 4, 4, 5, 6, 7, 8, 9, 9]\n",
    "\n",
    "test_case = [arr, solution]\n",
    "\n",
    "test_function(test_case)\n"
   ]
  },
  {
   "cell_type": "code",
   "execution_count": 3,
   "metadata": {
    "graffitiCellId": "id_5z02ebi",
    "scrolled": false
   },
   "outputs": [
    {
     "name": "stdout",
     "output_type": "stream",
     "text": [
      "[3, 7, 4, 6, 1, 0, 9, 8, 9, 4, 3, 5]\n",
      "[3, 7, 4, 6, 1, 0, 9, 8, 9, 4, 3, 5]\n",
      "[3, 7, 4, 6, 1, 0, 9, 8, 9, 4, 3, 5]\n",
      "[3, 7, 4, 6, 1, 0, 9, 8, 9, 4, 3, 5]\n",
      "[3, 7, 4, 6, 1, 0, 9, 8, 9, 4, 3, 5]\n",
      "[3, 7, 4, 6, 1, 0, 9, 8, 9, 4, 3, 5]\n",
      "[3, 7, 4, 6, 1, 0, 9, 8, 9, 4, 3, 5]\n",
      "[3, 7, 4, 6, 1, 0, 9, 8, 9, 4, 3, 5]\n",
      "[3, 7, 4, 6, 1, 5, 9, 8, 9, 4, 3, 0]\n",
      "[3, 7, 4, 6, 1, 5, 9, 8, 9, 4, 3, 0]\n",
      "[3, 7, 4, 6, 4, 5, 9, 8, 9, 1, 3, 0]\n",
      "[3, 7, 4, 6, 4, 5, 9, 8, 9, 1, 3, 0]\n",
      "[3, 7, 4, 9, 4, 5, 9, 8, 6, 1, 3, 0]\n",
      "[3, 7, 4, 9, 4, 5, 9, 8, 6, 1, 3, 0]\n",
      "[3, 7, 9, 9, 4, 5, 4, 8, 6, 1, 3, 0]\n",
      "[3, 7, 9, 9, 4, 5, 4, 8, 6, 1, 3, 0]\n",
      "[3, 9, 9, 7, 4, 5, 4, 8, 6, 1, 3, 0]\n",
      "[3, 9, 9, 8, 4, 5, 4, 7, 6, 1, 3, 0]\n",
      "[3, 9, 9, 8, 4, 5, 4, 7, 6, 1, 3, 0]\n",
      "[9, 3, 9, 8, 4, 5, 4, 7, 6, 1, 3, 0]\n",
      "[9, 8, 9, 3, 4, 5, 4, 7, 6, 1, 3, 0]\n",
      "[9, 8, 9, 7, 4, 5, 4, 3, 6, 1, 3, 0]\n",
      "[0, 8, 9, 7, 4, 5, 4, 3, 6, 1, 3, 9]\n",
      "[9, 8, 0, 7, 4, 5, 4, 3, 6, 1, 3, 9]\n",
      "[9, 8, 5, 7, 4, 0, 4, 3, 6, 1, 3, 9]\n",
      "[3, 8, 5, 7, 4, 0, 4, 3, 6, 1, 9, 9]\n",
      "[8, 3, 5, 7, 4, 0, 4, 3, 6, 1, 9, 9]\n",
      "[8, 7, 5, 3, 4, 0, 4, 3, 6, 1, 9, 9]\n",
      "[8, 7, 5, 6, 4, 0, 4, 3, 3, 1, 9, 9]\n",
      "[1, 7, 5, 6, 4, 0, 4, 3, 3, 8, 9, 9]\n",
      "[7, 1, 5, 6, 4, 0, 4, 3, 3, 8, 9, 9]\n",
      "[7, 6, 5, 1, 4, 0, 4, 3, 3, 8, 9, 9]\n",
      "[7, 6, 5, 3, 4, 0, 4, 1, 3, 8, 9, 9]\n",
      "[3, 6, 5, 3, 4, 0, 4, 1, 7, 8, 9, 9]\n",
      "[6, 3, 5, 3, 4, 0, 4, 1, 7, 8, 9, 9]\n",
      "[6, 4, 5, 3, 3, 0, 4, 1, 7, 8, 9, 9]\n",
      "[1, 4, 5, 3, 3, 0, 4, 6, 7, 8, 9, 9]\n",
      "[5, 4, 1, 3, 3, 0, 4, 6, 7, 8, 9, 9]\n",
      "[5, 4, 4, 3, 3, 0, 1, 6, 7, 8, 9, 9]\n",
      "[1, 4, 4, 3, 3, 0, 5, 6, 7, 8, 9, 9]\n",
      "[4, 1, 4, 3, 3, 0, 5, 6, 7, 8, 9, 9]\n",
      "[4, 3, 4, 1, 3, 0, 5, 6, 7, 8, 9, 9]\n",
      "[0, 3, 4, 1, 3, 4, 5, 6, 7, 8, 9, 9]\n",
      "[4, 3, 0, 1, 3, 4, 5, 6, 7, 8, 9, 9]\n",
      "[3, 3, 0, 1, 4, 4, 5, 6, 7, 8, 9, 9]\n",
      "[1, 3, 0, 3, 4, 4, 5, 6, 7, 8, 9, 9]\n",
      "[3, 1, 0, 3, 4, 4, 5, 6, 7, 8, 9, 9]\n",
      "[0, 1, 3, 3, 4, 4, 5, 6, 7, 8, 9, 9]\n",
      "[1, 0, 3, 3, 4, 4, 5, 6, 7, 8, 9, 9]\n",
      "[0, 1, 3, 3, 4, 4, 5, 6, 7, 8, 9, 9]\n",
      "Pass\n"
     ]
    }
   ],
   "source": [
    "arr = [3, 7, 4, 6, 1, 0, 9, 8, 9, 4, 3, 5]\n",
    "solution = [0, 1, 3, 3, 4, 4, 5, 6, 7, 8, 9, 9]\n",
    "\n",
    "test_case = [arr, solution]\n",
    "\n",
    "test_function(test_case)\n"
   ]
  },
  {
   "cell_type": "code",
   "execution_count": 8,
   "metadata": {},
   "outputs": [
    {
     "name": "stdout",
     "output_type": "stream",
     "text": [
      "Pass\n"
     ]
    }
   ],
   "source": [
    "arr = [5, 5, 5, 3, 3, 3, 4, 4, 4, 4]\n",
    "solution = [3, 3, 3, 4, 4, 4, 4, 5, 5, 5]\n",
    "test_case = [arr, solution]\n",
    "test_function(test_case)\n"
   ]
  },
  {
   "cell_type": "code",
   "execution_count": 9,
   "metadata": {},
   "outputs": [
    {
     "name": "stdout",
     "output_type": "stream",
     "text": [
      "Pass\n"
     ]
    }
   ],
   "source": [
    "arr = [99]\n",
    "solution = [99]\n",
    "test_case = [arr, solution]\n",
    "test_function(test_case)\n"
   ]
  },
  {
   "cell_type": "code",
   "execution_count": 10,
   "metadata": {},
   "outputs": [
    {
     "name": "stdout",
     "output_type": "stream",
     "text": [
      "Pass\n"
     ]
    }
   ],
   "source": [
    "arr = [0, 1, 2, 5, 12, 21, 0]\n",
    "solution = [0, 0, 1, 2, 5, 12, 21]\n",
    "test_case = [arr, solution]\n",
    "test_function(test_case)\n"
   ]
  }
 ],
 "metadata": {
  "graffiti": {
   "firstAuthorId": "10694620118",
   "id": "id_57afwqr",
   "language": "EN"
  },
  "kernelspec": {
   "display_name": "Python 3",
   "language": "python",
   "name": "python3"
  },
  "language_info": {
   "codemirror_mode": {
    "name": "ipython",
    "version": 3
   },
   "file_extension": ".py",
   "mimetype": "text/x-python",
   "name": "python",
   "nbconvert_exporter": "python",
   "pygments_lexer": "ipython3",
   "version": "3.6.3"
  }
 },
 "nbformat": 4,
 "nbformat_minor": 2
}
